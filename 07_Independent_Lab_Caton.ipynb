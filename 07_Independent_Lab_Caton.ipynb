{
 "cells": [
  {
   "cell_type": "markdown",
   "id": "2ad2c92b",
   "metadata": {},
   "source": [
    "## Independent Lab Winston Caton"
   ]
  },
  {
   "cell_type": "code",
   "execution_count": null,
   "id": "e7b43a96",
   "metadata": {},
   "outputs": [],
   "source": []
  }
 ],
 "metadata": {
  "language_info": {
   "name": "python"
  }
 },
 "nbformat": 4,
 "nbformat_minor": 5
}
